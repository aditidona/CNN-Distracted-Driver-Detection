{
 "cells": [
  {
   "cell_type": "markdown",
   "metadata": {},
   "source": [
    "# PROJECT-DISTRACTED DRIVER DETECTION\n",
    "##### TOPICS: TENSORFLOW, KERAS, CNN\n",
    "##### BY: ADITI DONA"
   ]
  },
  {
   "cell_type": "code",
   "execution_count": 1,
   "metadata": {
    "_cell_guid": "79c7e3d0-c299-4dcb-8224-4455121ee9b0",
    "_uuid": "d629ff2d2480ee46fbb7e2d37f6b5fab8052498a"
   },
   "outputs": [],
   "source": [
    "import os\n",
    "import random\n",
    "import numpy as np\n",
    "from PIL import Image,ImageOps\n",
    "import matplotlib.pyplot as plt\n",
    "from sklearn.model_selection import train_test_split\n",
    "import tensorflow as tf\n",
    "from tensorflow.keras.models import Sequential\n",
    "from tensorflow.keras.layers import Dense, Dropout, Flatten\n",
    "from tensorflow.keras.layers import Conv2D, MaxPooling2D\n",
    "from keras.utils import to_categorical\n",
    "from keras.preprocessing import image \n",
    "from tensorflow.keras import optimizers"
   ]
  },
  {
   "cell_type": "markdown",
   "metadata": {},
   "source": [
    "## Loading the Images\n",
    "## Preprocessing \n",
    "##### --> convert each image to grayscale\n",
    "##### --> Resize each image to (240,240) to speed up processing\n",
    "##### --> Convert to image array"
   ]
  },
  {
   "cell_type": "code",
   "execution_count": 2,
   "metadata": {},
   "outputs": [
    {
     "name": "stdout",
     "output_type": "stream",
     "text": [
      "---Images of label: 0 read---\n",
      "---Images of label: 1 read---\n",
      "---Images of label: 2 read---\n",
      "---Images of label: 3 read---\n",
      "---Images of label: 4 read---\n",
      "---Images of label: 5 read---\n",
      "---Images of label: 6 read---\n",
      "---Images of label: 7 read---\n",
      "---Images of label: 8 read---\n",
      "---Images of label: 9 read---\n"
     ]
    }
   ],
   "source": [
    "x=[]\n",
    "y=[]\n",
    "train_dir='../input/state-farm-distracted-driver-detection/imgs/train'\n",
    "labels=os.listdir(train_dir)\n",
    "for label in range(len(labels)):\n",
    "    images=os.listdir(train_dir+'/c'+str(label))\n",
    "    for im in images:\n",
    "        image=Image.open(train_dir+'/c'+str(label)+'/'+im)\n",
    "        image=ImageOps.grayscale(image)\n",
    "        image=image.resize((240,240))\n",
    "        image=np.array(image)\n",
    "        x.append(image)\n",
    "        y.append(label)\n",
    "    print('---Images of label:',label,'read---')"
   ]
  },
  {
   "cell_type": "code",
   "execution_count": 3,
   "metadata": {},
   "outputs": [
    {
     "name": "stdout",
     "output_type": "stream",
     "text": [
      "(22424, 240, 240) (22424,)\n"
     ]
    }
   ],
   "source": [
    "# Converting to numpy array\n",
    "x=np.array(x)\n",
    "y=np.array(y)\n",
    "print(x.shape,y.shape)"
   ]
  },
  {
   "cell_type": "code",
   "execution_count": 4,
   "metadata": {},
   "outputs": [
    {
     "name": "stdout",
     "output_type": "stream",
     "text": [
      "(22424, 240, 240, 1) (22424,)\n"
     ]
    }
   ],
   "source": [
    "# reshaping\n",
    "x=x.reshape(-1,240,240,1)\n",
    "print(x.shape,y.shape)"
   ]
  },
  {
   "cell_type": "markdown",
   "metadata": {},
   "source": [
    "## Splitting into train and test data\n",
    "##### ---> 80% Train\n",
    "##### ---> 20% Validation "
   ]
  },
  {
   "cell_type": "code",
   "execution_count": 5,
   "metadata": {},
   "outputs": [],
   "source": [
    "x_train,x_test,y_train,y_test=train_test_split(x,y,test_size=0.2,random_state=123)"
   ]
  },
  {
   "cell_type": "markdown",
   "metadata": {},
   "source": [
    "## One-hot encoding"
   ]
  },
  {
   "cell_type": "code",
   "execution_count": 6,
   "metadata": {},
   "outputs": [],
   "source": [
    "y_train=to_categorical(y_train,10)\n",
    "y_test=to_categorical(y_test,10)"
   ]
  },
  {
   "cell_type": "markdown",
   "metadata": {},
   "source": [
    "## Building the Cnn Model\n",
    "##### ---> Sequential model\n",
    "##### ---> Convulational layers-(units=34 & 64 , activation='relu', k=3, input_dimension=(240,240,1), padding='same')\n",
    "##### ---> MaxPooling-(k=2)\n",
    "##### ---> Dropout- excluding 25% of the data points in CNN1 & CNN2 and 50% of the data points in Dense layer to prevent overfit\n",
    "##### ---> Output Layer-(activation='Softmax')\n"
   ]
  },
  {
   "cell_type": "code",
   "execution_count": 7,
   "metadata": {},
   "outputs": [],
   "source": [
    "model = Sequential()\n",
    "\n",
    "model.add(Conv2D(32, kernel_size=(3, 3),activation='relu',input_shape=(240,240,1),padding = 'same'))\n",
    "model.add(MaxPooling2D(pool_size=(2, 2)))\n",
    "model.add(Dropout(0.25))\n",
    "\n",
    "model.add(Conv2D(32,kernel_size = (3,3),activation = 'relu',padding = 'same'))\n",
    "model.add(MaxPooling2D(pool_size=(2, 2)))\n",
    "model.add(Dropout(0.25))\n",
    "\n",
    "model.add(Conv2D(64,kernel_size = (3,3),activation = 'relu',padding = 'same'))\n",
    "model.add(Conv2D(64,kernel_size = (3,3),activation = 'relu',padding = 'same'))\n",
    "model.add(MaxPooling2D(pool_size=(2, 2)))\n",
    "model.add(Dropout(0.25))\n",
    "\n",
    "model.add(Flatten())\n",
    "\n",
    "model.add(Dense(256, activation = 'relu'))\n",
    "model.add(Dropout(0.5))\n",
    "model.add(Dense(10, activation='softmax'))"
   ]
  },
  {
   "cell_type": "markdown",
   "metadata": {},
   "source": [
    "## Compiling the model\n",
    "##### ---> Optimizer used = SGD optmizer with learning rate 0.001\n",
    "##### ---> loss function = crossentropy\n",
    "##### ---> metric = accuracy\n"
   ]
  },
  {
   "cell_type": "code",
   "execution_count": 8,
   "metadata": {},
   "outputs": [],
   "source": [
    "model.compile(loss='categorical_crossentropy',optimizer=optimizers.SGD(lr = 0.001),metrics=['accuracy'])"
   ]
  },
  {
   "cell_type": "markdown",
   "metadata": {},
   "source": [
    "## Training the model\n",
    "##### ---> epoch=25"
   ]
  },
  {
   "cell_type": "code",
   "execution_count": 9,
   "metadata": {},
   "outputs": [
    {
     "name": "stdout",
     "output_type": "stream",
     "text": [
      "Epoch 1/25\n",
      "561/561 [==============================] - 17s 31ms/step - loss: 2.6420 - accuracy: 0.1970 - val_loss: 1.7915 - val_accuracy: 0.5795\n",
      "Epoch 2/25\n",
      "561/561 [==============================] - 17s 30ms/step - loss: 1.3771 - accuracy: 0.5353 - val_loss: 0.6187 - val_accuracy: 0.8821\n",
      "Epoch 3/25\n",
      "561/561 [==============================] - 17s 30ms/step - loss: 0.7401 - accuracy: 0.7555 - val_loss: 0.2913 - val_accuracy: 0.9474\n",
      "Epoch 4/25\n",
      "561/561 [==============================] - 17s 30ms/step - loss: 0.4726 - accuracy: 0.8442 - val_loss: 0.1329 - val_accuracy: 0.9777\n",
      "Epoch 5/25\n",
      "561/561 [==============================] - 17s 30ms/step - loss: 0.3342 - accuracy: 0.8927 - val_loss: 0.0932 - val_accuracy: 0.9804\n",
      "Epoch 6/25\n",
      "561/561 [==============================] - 17s 30ms/step - loss: 0.2553 - accuracy: 0.9188 - val_loss: 0.0597 - val_accuracy: 0.9875\n",
      "Epoch 7/25\n",
      "561/561 [==============================] - 17s 30ms/step - loss: 0.1983 - accuracy: 0.9367 - val_loss: 0.0506 - val_accuracy: 0.9893\n",
      "Epoch 8/25\n",
      "561/561 [==============================] - 17s 30ms/step - loss: 0.1706 - accuracy: 0.9469 - val_loss: 0.0446 - val_accuracy: 0.9897\n",
      "Epoch 9/25\n",
      "561/561 [==============================] - 17s 30ms/step - loss: 0.1476 - accuracy: 0.9511 - val_loss: 0.0367 - val_accuracy: 0.9918\n",
      "Epoch 10/25\n",
      "561/561 [==============================] - 17s 30ms/step - loss: 0.1238 - accuracy: 0.9595 - val_loss: 0.0379 - val_accuracy: 0.9918\n",
      "Epoch 11/25\n",
      "561/561 [==============================] - 17s 30ms/step - loss: 0.1091 - accuracy: 0.9644 - val_loss: 0.0322 - val_accuracy: 0.9931\n",
      "Epoch 12/25\n",
      "561/561 [==============================] - 17s 30ms/step - loss: 0.0962 - accuracy: 0.9707 - val_loss: 0.0297 - val_accuracy: 0.9938\n",
      "Epoch 13/25\n",
      "561/561 [==============================] - 17s 30ms/step - loss: 0.0887 - accuracy: 0.9710 - val_loss: 0.0280 - val_accuracy: 0.9931\n",
      "Epoch 14/25\n",
      "561/561 [==============================] - 17s 30ms/step - loss: 0.0789 - accuracy: 0.9756 - val_loss: 0.0286 - val_accuracy: 0.9931\n",
      "Epoch 15/25\n",
      "561/561 [==============================] - 17s 30ms/step - loss: 0.0768 - accuracy: 0.9753 - val_loss: 0.0226 - val_accuracy: 0.9942\n",
      "Epoch 16/25\n",
      "561/561 [==============================] - 17s 30ms/step - loss: 0.0721 - accuracy: 0.9770 - val_loss: 0.0229 - val_accuracy: 0.9949\n",
      "Epoch 17/25\n",
      "561/561 [==============================] - 17s 30ms/step - loss: 0.0621 - accuracy: 0.9802 - val_loss: 0.0217 - val_accuracy: 0.9951\n",
      "Epoch 18/25\n",
      "561/561 [==============================] - 17s 30ms/step - loss: 0.0587 - accuracy: 0.9790 - val_loss: 0.0226 - val_accuracy: 0.9951\n",
      "Epoch 19/25\n",
      "561/561 [==============================] - 17s 30ms/step - loss: 0.0526 - accuracy: 0.9838 - val_loss: 0.0229 - val_accuracy: 0.9949\n",
      "Epoch 20/25\n",
      "561/561 [==============================] - 17s 31ms/step - loss: 0.0541 - accuracy: 0.9824 - val_loss: 0.0225 - val_accuracy: 0.9944\n",
      "Epoch 21/25\n",
      "561/561 [==============================] - 17s 30ms/step - loss: 0.0448 - accuracy: 0.9851 - val_loss: 0.0216 - val_accuracy: 0.9953\n",
      "Epoch 22/25\n",
      "561/561 [==============================] - 17s 30ms/step - loss: 0.0440 - accuracy: 0.9848 - val_loss: 0.0240 - val_accuracy: 0.9946\n",
      "Epoch 23/25\n",
      "561/561 [==============================] - 17s 30ms/step - loss: 0.0463 - accuracy: 0.9848 - val_loss: 0.0218 - val_accuracy: 0.9953\n",
      "Epoch 24/25\n",
      "561/561 [==============================] - 17s 30ms/step - loss: 0.0424 - accuracy: 0.9860 - val_loss: 0.0198 - val_accuracy: 0.9946\n",
      "Epoch 25/25\n",
      "561/561 [==============================] - 17s 30ms/step - loss: 0.0383 - accuracy: 0.9870 - val_loss: 0.0216 - val_accuracy: 0.9955\n"
     ]
    }
   ],
   "source": [
    "history=model.fit(x_train,y_train,epochs=25,validation_data=(x_test,y_test))"
   ]
  },
  {
   "cell_type": "markdown",
   "metadata": {},
   "source": [
    "## Summary of Accuracy w.r.t Epoch"
   ]
  },
  {
   "cell_type": "code",
   "execution_count": 10,
   "metadata": {},
   "outputs": [
    {
     "data": {
      "image/png": "[encoded data removed]",
      "text/plain": [
       "<Figure size 432x288 with 1 Axes>"
      ]
     },
     "metadata": {
      "needs_background": "light"
     },
     "output_type": "display_data"
    }
   ],
   "source": [
    "plt.plot(history.history['accuracy'])\n",
    "plt.plot(history.history['val_accuracy'])\n",
    "plt.title('model accuracy')\n",
    "plt.ylabel('accuracy')\n",
    "plt.xlabel('epoch')\n",
    "plt.legend(['train', 'test'])\n",
    "plt.show()"
   ]
  },
  {
   "cell_type": "markdown",
   "metadata": {},
   "source": [
    "##### Hence model has not overfitted because the test accuracy is always more than train accuracy"
   ]
  },
  {
   "cell_type": "markdown",
   "metadata": {},
   "source": [
    "## Summarize of Loss w.r.t Epoch"
   ]
  },
  {
   "cell_type": "code",
   "execution_count": 11,
   "metadata": {},
   "outputs": [
    {
     "data": {
      "image/png": "[encoded data removed]",
      "text/plain": [
       "<Figure size 432x288 with 1 Axes>"
      ]
     },
     "metadata": {
      "needs_background": "light"
     },
     "output_type": "display_data"
    }
   ],
   "source": [
    "plt.plot(history.history['loss'])\n",
    "plt.plot(history.history['val_loss'])\n",
    "plt.title('model loss')\n",
    "plt.ylabel('loss')\n",
    "plt.xlabel('epoch')\n",
    "plt.legend(['train', 'test'])\n",
    "plt.show()"
   ]
  },
  {
   "cell_type": "markdown",
   "metadata": {},
   "source": [
    "##### Hence model has not overfitted because the test loss is always less than train loss"
   ]
  },
  {
   "cell_type": "markdown",
   "metadata": {},
   "source": [
    "## Evaluation on Test Dataset"
   ]
  },
  {
   "cell_type": "code",
   "execution_count": 12,
   "metadata": {},
   "outputs": [
    {
     "name": "stdout",
     "output_type": "stream",
     "text": [
      "141/141 [==============================] - 1s 10ms/step - loss: 0.0216 - accuracy: 0.9955\n"
     ]
    },
    {
     "data": {
      "text/plain": [
       "[0.021556850522756577, 0.9955406785011292]"
      ]
     },
     "execution_count": 12,
     "metadata": {},
     "output_type": "execute_result"
    }
   ],
   "source": [
    "model.evaluate(x_test,y_test)"
   ]
  },
  {
   "cell_type": "markdown",
   "metadata": {},
   "source": [
    "## Accuracy on Test Data :  99.5540"
   ]
  },
  {
   "cell_type": "code",
   "execution_count": null,
   "metadata": {},
   "outputs": [],
   "source": []
  }
 ],
 "metadata": {
  "kernelspec": {
   "display_name": "Python 3",
   "language": "python",
   "name": "python3"
  },
  "language_info": {
   "codemirror_mode": {
    "name": "ipython",
    "version": 3
   },
   "file_extension": ".py",
   "mimetype": "text/x-python",
   "name": "python",
   "nbconvert_exporter": "python",
   "pygments_lexer": "ipython3",
   "version": "3.7.4"
  }
 },
 "nbformat": 4,
 "nbformat_minor": 4
}
